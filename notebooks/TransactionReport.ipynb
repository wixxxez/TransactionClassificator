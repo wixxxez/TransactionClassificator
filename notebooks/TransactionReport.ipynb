{
 "cells": [
  {
   "cell_type": "code",
   "execution_count": 1,
   "metadata": {},
   "outputs": [],
   "source": [
    "import pandas as pd"
   ]
  },
  {
   "cell_type": "code",
   "execution_count": 2,
   "metadata": {},
   "outputs": [],
   "source": [
    "data = pd.read_csv(\"../datasets/transaction_history.csv\")"
   ]
  },
  {
   "cell_type": "code",
   "execution_count": 3,
   "metadata": {},
   "outputs": [],
   "source": [
    "mcc = pd.read_csv(\"../data/MCC codes.csv\")"
   ]
  },
  {
   "cell_type": "code",
   "execution_count": 4,
   "metadata": {},
   "outputs": [],
   "source": [
    "data = data.merge(mcc , on = 'originalMcc')"
   ]
  },
  {
   "cell_type": "code",
   "execution_count": 5,
   "metadata": {},
   "outputs": [
    {
     "data": {
      "text/plain": [
       "array(['Різноманітні продовольчі магазини – ринки, магазини',\n",
       "       'Бакалійні магазини, супермаркети',\n",
       "       'Різні товари загального призначення',\n",
       "       'Магазини, що торгують зі зниженими цінами'], dtype=object)"
      ]
     },
     "execution_count": 5,
     "metadata": {},
     "output_type": "execute_result"
    }
   ],
   "source": [
    "data.query('`Business group` == \"Продаж в роздріб\" ').Category.unique()"
   ]
  },
  {
   "cell_type": "code",
   "execution_count": 6,
   "metadata": {},
   "outputs": [],
   "source": [
    "import time"
   ]
  },
  {
   "cell_type": "code",
   "execution_count": 36,
   "metadata": {},
   "outputs": [],
   "source": [
    "current_month = current_week = int(time.strftime('%m'))"
   ]
  },
  {
   "cell_type": "code",
   "execution_count": 7,
   "metadata": {},
   "outputs": [],
   "source": [
    "current_week = int(time.strftime('%w'))"
   ]
  },
  {
   "cell_type": "markdown",
   "metadata": {},
   "source": [
    "### Hight Level Report "
   ]
  },
  {
   "cell_type": "code",
   "execution_count": 8,
   "metadata": {},
   "outputs": [],
   "source": [
    "custom_categories = {\n",
    "    'MCC_Categories' :  [{'originalMcc' : '5812', 'custom_category': 'Харчування'},{'originalMcc' : '5499', 'custom_category': 'Харчування'},{'originalMcc' : '5411', 'custom_category': 'Харчування'}],\n",
    "    'Description_Categories' : [{'description' : 'Петро С.', 'custom_category': 'Квартплата'} , {'description': '535129****2010', 'custom_category': 'Комунальний платіж'}]\n",
    "}"
   ]
  },
  {
   "cell_type": "code",
   "execution_count": 9,
   "metadata": {},
   "outputs": [],
   "source": [
    "mcc_categories = pd.DataFrame([category for category in custom_categories['MCC_Categories']])\n",
    "mcc_categories['originalMcc'] = mcc_categories['originalMcc'].astype(int)\n",
    "data_with_mcc_categories = data.merge(mcc_categories,on='originalMcc', how='left')\n",
    "description_categories = pd.DataFrame([category for category in custom_categories['Description_Categories']])\n",
    "data_full = data_with_mcc_categories.merge(description_categories, on='description', how='left')\n",
    "data_full['custom_category_x']=  data_full['custom_category_x'].fillna(data_full['custom_category_y'])\n",
    "data_full['custom_category_x']=  data_full['custom_category_x'].fillna(data_full['Business group'])\n",
    "data_full  = data_full.rename(columns={'custom_category_x':'custom_category'})\n",
    "del data_full['custom_category_y']"
   ]
  },
  {
   "cell_type": "code",
   "execution_count": 48,
   "metadata": {},
   "outputs": [
    {
     "data": {
      "text/plain": [
       "array(['Харчування', 'Фінанси', 'Різні магазини', 'Онлайн-майданчики',\n",
       "       'Квартплата', 'Постачальники послуг', 'Транспортування',\n",
       "       'Комунальні послуги', 'Комунальний платіж', 'Продаж в роздріб'],\n",
       "      dtype=object)"
      ]
     },
     "execution_count": 48,
     "metadata": {},
     "output_type": "execute_result"
    }
   ],
   "source": [
    "data_full['custom_category'].unique()"
   ]
  },
  {
   "cell_type": "code",
   "execution_count": 15,
   "metadata": {},
   "outputs": [
    {
     "data": {
      "text/html": [
       "<div>\n",
       "<style scoped>\n",
       "    .dataframe tbody tr th:only-of-type {\n",
       "        vertical-align: middle;\n",
       "    }\n",
       "\n",
       "    .dataframe tbody tr th {\n",
       "        vertical-align: top;\n",
       "    }\n",
       "\n",
       "    .dataframe thead th {\n",
       "        text-align: right;\n",
       "    }\n",
       "</style>\n",
       "<table border=\"1\" class=\"dataframe\">\n",
       "  <thead>\n",
       "    <tr style=\"text-align: right;\">\n",
       "      <th></th>\n",
       "      <th></th>\n",
       "      <th></th>\n",
       "      <th>amount</th>\n",
       "    </tr>\n",
       "    <tr>\n",
       "      <th>user_name</th>\n",
       "      <th>Business group</th>\n",
       "      <th>custom_category</th>\n",
       "      <th></th>\n",
       "    </tr>\n",
       "  </thead>\n",
       "  <tbody>\n",
       "    <tr>\n",
       "      <th rowspan=\"6\" valign=\"top\">Artem</th>\n",
       "      <th>Онлайн-майданчики</th>\n",
       "      <th>Онлайн-майданчики</th>\n",
       "      <td>2713</td>\n",
       "    </tr>\n",
       "    <tr>\n",
       "      <th>Продаж в роздріб</th>\n",
       "      <th>Харчування</th>\n",
       "      <td>4479</td>\n",
       "    </tr>\n",
       "    <tr>\n",
       "      <th rowspan=\"2\" valign=\"top\">Різні магазини</th>\n",
       "      <th>Різні магазини</th>\n",
       "      <td>2082</td>\n",
       "    </tr>\n",
       "    <tr>\n",
       "      <th>Харчування</th>\n",
       "      <td>120</td>\n",
       "    </tr>\n",
       "    <tr>\n",
       "      <th rowspan=\"2\" valign=\"top\">Фінанси</th>\n",
       "      <th>Квартплата</th>\n",
       "      <td>7000</td>\n",
       "    </tr>\n",
       "    <tr>\n",
       "      <th>Фінанси</th>\n",
       "      <td>11177</td>\n",
       "    </tr>\n",
       "    <tr>\n",
       "      <th rowspan=\"3\" valign=\"top\">Ira</th>\n",
       "      <th>Продаж в роздріб</th>\n",
       "      <th>Харчування</th>\n",
       "      <td>67</td>\n",
       "    </tr>\n",
       "    <tr>\n",
       "      <th>Транспортування</th>\n",
       "      <th>Транспортування</th>\n",
       "      <td>217</td>\n",
       "    </tr>\n",
       "    <tr>\n",
       "      <th>Фінанси</th>\n",
       "      <th>Фінанси</th>\n",
       "      <td>6541</td>\n",
       "    </tr>\n",
       "  </tbody>\n",
       "</table>\n",
       "</div>"
      ],
      "text/plain": [
       "                                               amount\n",
       "user_name Business group    custom_category          \n",
       "Artem     Онлайн-майданчики Онлайн-майданчики    2713\n",
       "          Продаж в роздріб  Харчування           4479\n",
       "          Різні магазини    Різні магазини       2082\n",
       "                            Харчування            120\n",
       "          Фінанси           Квартплата           7000\n",
       "                            Фінанси             11177\n",
       "Ira       Продаж в роздріб  Харчування             67\n",
       "          Транспортування   Транспортування       217\n",
       "          Фінанси           Фінанси              6541"
      ]
     },
     "execution_count": 15,
     "metadata": {},
     "output_type": "execute_result"
    }
   ],
   "source": [
    "data_full.query(\"week_number == 1\").groupby( ['user_name', 'Business group', 'custom_category'] ).amount.sum().to_frame()"
   ]
  },
  {
   "cell_type": "code",
   "execution_count": 23,
   "metadata": {},
   "outputs": [],
   "source": [
    "Balances = pd.read_csv(\"../datasets/balances.csv\")"
   ]
  },
  {
   "cell_type": "markdown",
   "metadata": {},
   "source": [
    "### Weekly balance report"
   ]
  },
  {
   "cell_type": "code",
   "execution_count": 57,
   "metadata": {},
   "outputs": [],
   "source": [
    "Weekly = data_full.query(\"week_number == 1\").groupby( ['custom_category'] ).amount.sum().reset_index().merge(Balances.query('Period == \"w\"'),how='right')\n",
    "Weekly = Weekly.fillna(0)"
   ]
  },
  {
   "cell_type": "code",
   "execution_count": 64,
   "metadata": {},
   "outputs": [
    {
     "data": {
      "text/html": [
       "<div>\n",
       "<style scoped>\n",
       "    .dataframe tbody tr th:only-of-type {\n",
       "        vertical-align: middle;\n",
       "    }\n",
       "\n",
       "    .dataframe tbody tr th {\n",
       "        vertical-align: top;\n",
       "    }\n",
       "\n",
       "    .dataframe thead th {\n",
       "        text-align: right;\n",
       "    }\n",
       "</style>\n",
       "<table border=\"1\" class=\"dataframe\">\n",
       "  <thead>\n",
       "    <tr style=\"text-align: right;\">\n",
       "      <th></th>\n",
       "      <th>custom_category</th>\n",
       "      <th>amount</th>\n",
       "      <th>Balance</th>\n",
       "      <th>Period</th>\n",
       "    </tr>\n",
       "  </thead>\n",
       "  <tbody>\n",
       "    <tr>\n",
       "      <th>0</th>\n",
       "      <td>Харчування</td>\n",
       "      <td>4666</td>\n",
       "      <td>3000</td>\n",
       "      <td>w</td>\n",
       "    </tr>\n",
       "  </tbody>\n",
       "</table>\n",
       "</div>"
      ],
      "text/plain": [
       "  custom_category  amount  Balance Period\n",
       "0      Харчування    4666     3000      w"
      ]
     },
     "metadata": {},
     "output_type": "display_data"
    },
    {
     "data": {
      "text/plain": [
       "'For categpry Харчування. You exceeded the weekly limit.'"
      ]
     },
     "execution_count": 64,
     "metadata": {},
     "output_type": "execute_result"
    }
   ],
   "source": [
    "display(Weekly)\n",
    "for category in Weekly.custom_category.unique():\n",
    "\n",
    "    category_df = Weekly.query(\"custom_category == @category\")\n",
    "\n",
    "    availible = category_df['Balance'] -category_df['amount']\n",
    "    availible = availible[0]\n",
    "    if availible > 0 : \n",
    "        balance_report_body = f\"For category {category}. You have {availible}. UAH\"\n",
    "\n",
    "    else :\n",
    "        balance_report_body = f\"For categpry {category}. You exceeded the weekly limit.\"\n",
    "\n",
    "balance_report_body"
   ]
  },
  {
   "cell_type": "markdown",
   "metadata": {},
   "source": [
    "### Month Balance report "
   ]
  },
  {
   "cell_type": "code",
   "execution_count": 59,
   "metadata": {},
   "outputs": [
    {
     "data": {
      "text/html": [
       "<div>\n",
       "<style scoped>\n",
       "    .dataframe tbody tr th:only-of-type {\n",
       "        vertical-align: middle;\n",
       "    }\n",
       "\n",
       "    .dataframe tbody tr th {\n",
       "        vertical-align: top;\n",
       "    }\n",
       "\n",
       "    .dataframe thead th {\n",
       "        text-align: right;\n",
       "    }\n",
       "</style>\n",
       "<table border=\"1\" class=\"dataframe\">\n",
       "  <thead>\n",
       "    <tr style=\"text-align: right;\">\n",
       "      <th></th>\n",
       "      <th>Unnamed: 0</th>\n",
       "      <th>id</th>\n",
       "      <th>time</th>\n",
       "      <th>description</th>\n",
       "      <th>originalMcc</th>\n",
       "      <th>amount</th>\n",
       "      <th>receiptId</th>\n",
       "      <th>type</th>\n",
       "      <th>full_date</th>\n",
       "      <th>month_number</th>\n",
       "      <th>week_number</th>\n",
       "      <th>user_name</th>\n",
       "      <th>telegram_id</th>\n",
       "      <th>Category</th>\n",
       "      <th>Business group</th>\n",
       "      <th>custom_category</th>\n",
       "    </tr>\n",
       "  </thead>\n",
       "  <tbody>\n",
       "    <tr>\n",
       "      <th>0</th>\n",
       "      <td>0</td>\n",
       "      <td>QybTdwmdg1UxQYorUw</td>\n",
       "      <td>1736090319</td>\n",
       "      <td>Glovo</td>\n",
       "      <td>5499</td>\n",
       "      <td>434</td>\n",
       "      <td>E8C4-AH3E-CEA7-H0E8</td>\n",
       "      <td>outcome</td>\n",
       "      <td>2025-01-05</td>\n",
       "      <td>1</td>\n",
       "      <td>1</td>\n",
       "      <td>Artem</td>\n",
       "      <td>533452580</td>\n",
       "      <td>Різноманітні продовольчі магазини – ринки, маг...</td>\n",
       "      <td>Продаж в роздріб</td>\n",
       "      <td>Харчування</td>\n",
       "    </tr>\n",
       "    <tr>\n",
       "      <th>1</th>\n",
       "      <td>1</td>\n",
       "      <td>X2L4UyGbf3mHQnmHCg</td>\n",
       "      <td>1736016367</td>\n",
       "      <td>Анатолій К.</td>\n",
       "      <td>4829</td>\n",
       "      <td>715</td>\n",
       "      <td>T0E9-MC6C-3P2P-A72C</td>\n",
       "      <td>outcome</td>\n",
       "      <td>2025-01-04</td>\n",
       "      <td>1</td>\n",
       "      <td>1</td>\n",
       "      <td>Artem</td>\n",
       "      <td>533452580</td>\n",
       "      <td>Грошові перекази</td>\n",
       "      <td>Фінанси</td>\n",
       "      <td>Фінанси</td>\n",
       "    </tr>\n",
       "    <tr>\n",
       "      <th>2</th>\n",
       "      <td>2</td>\n",
       "      <td>dqY1XO0j5LgB88i-DUL2</td>\n",
       "      <td>1735950685</td>\n",
       "      <td>Glovo</td>\n",
       "      <td>5499</td>\n",
       "      <td>291</td>\n",
       "      <td>NaN</td>\n",
       "      <td>outcome</td>\n",
       "      <td>2025-01-04</td>\n",
       "      <td>1</td>\n",
       "      <td>1</td>\n",
       "      <td>Artem</td>\n",
       "      <td>533452580</td>\n",
       "      <td>Різноманітні продовольчі магазини – ринки, маг...</td>\n",
       "      <td>Продаж в роздріб</td>\n",
       "      <td>Харчування</td>\n",
       "    </tr>\n",
       "    <tr>\n",
       "      <th>3</th>\n",
       "      <td>3</td>\n",
       "      <td>6cexPC-Cv8T6zid9SkR7vBBmR7M</td>\n",
       "      <td>1735950685</td>\n",
       "      <td>Скасування. Glovo</td>\n",
       "      <td>5499</td>\n",
       "      <td>288</td>\n",
       "      <td>NaN</td>\n",
       "      <td>income</td>\n",
       "      <td>2025-01-04</td>\n",
       "      <td>1</td>\n",
       "      <td>1</td>\n",
       "      <td>Artem</td>\n",
       "      <td>533452580</td>\n",
       "      <td>Різноманітні продовольчі магазини – ринки, маг...</td>\n",
       "      <td>Продаж в роздріб</td>\n",
       "      <td>Харчування</td>\n",
       "    </tr>\n",
       "    <tr>\n",
       "      <th>4</th>\n",
       "      <td>4</td>\n",
       "      <td>5fRWZpgp0bXROL-_vA</td>\n",
       "      <td>1735920286</td>\n",
       "      <td>Glovo</td>\n",
       "      <td>5499</td>\n",
       "      <td>521</td>\n",
       "      <td>1914-H328-TBHP-KPTP</td>\n",
       "      <td>outcome</td>\n",
       "      <td>2025-01-03</td>\n",
       "      <td>1</td>\n",
       "      <td>1</td>\n",
       "      <td>Artem</td>\n",
       "      <td>533452580</td>\n",
       "      <td>Різноманітні продовольчі магазини – ринки, маг...</td>\n",
       "      <td>Продаж в роздріб</td>\n",
       "      <td>Харчування</td>\n",
       "    </tr>\n",
       "    <tr>\n",
       "      <th>...</th>\n",
       "      <td>...</td>\n",
       "      <td>...</td>\n",
       "      <td>...</td>\n",
       "      <td>...</td>\n",
       "      <td>...</td>\n",
       "      <td>...</td>\n",
       "      <td>...</td>\n",
       "      <td>...</td>\n",
       "      <td>...</td>\n",
       "      <td>...</td>\n",
       "      <td>...</td>\n",
       "      <td>...</td>\n",
       "      <td>...</td>\n",
       "      <td>...</td>\n",
       "      <td>...</td>\n",
       "      <td>...</td>\n",
       "    </tr>\n",
       "    <tr>\n",
       "      <th>114</th>\n",
       "      <td>41</td>\n",
       "      <td>CbFMNVPPwAs5p5aj5Q</td>\n",
       "      <td>1733589765</td>\n",
       "      <td>SIMI #4133</td>\n",
       "      <td>5499</td>\n",
       "      <td>457</td>\n",
       "      <td>HKAA-P721-A2EC-1641</td>\n",
       "      <td>outcome</td>\n",
       "      <td>2024-12-07 00:00:00</td>\n",
       "      <td>12</td>\n",
       "      <td>49</td>\n",
       "      <td>Ira</td>\n",
       "      <td>820980192</td>\n",
       "      <td>Різноманітні продовольчі магазини – ринки, маг...</td>\n",
       "      <td>Продаж в роздріб</td>\n",
       "      <td>Харчування</td>\n",
       "    </tr>\n",
       "    <tr>\n",
       "      <th>115</th>\n",
       "      <td>42</td>\n",
       "      <td>GI1HNsfLIhmssLStFQ</td>\n",
       "      <td>1733581779</td>\n",
       "      <td>Uklon</td>\n",
       "      <td>4121</td>\n",
       "      <td>100</td>\n",
       "      <td>058K-T735-TE7P-976M</td>\n",
       "      <td>outcome</td>\n",
       "      <td>2024-12-07 00:00:00</td>\n",
       "      <td>12</td>\n",
       "      <td>49</td>\n",
       "      <td>Ira</td>\n",
       "      <td>820980192</td>\n",
       "      <td>Лімузини та таксі</td>\n",
       "      <td>Транспортування</td>\n",
       "      <td>Транспортування</td>\n",
       "    </tr>\n",
       "    <tr>\n",
       "      <th>116</th>\n",
       "      <td>43</td>\n",
       "      <td>l9iYR2quEjfbjjqERA</td>\n",
       "      <td>1733501173</td>\n",
       "      <td>Термінал EasyPay</td>\n",
       "      <td>4829</td>\n",
       "      <td>200</td>\n",
       "      <td>NaN</td>\n",
       "      <td>income</td>\n",
       "      <td>2024-12-06 00:00:00</td>\n",
       "      <td>12</td>\n",
       "      <td>49</td>\n",
       "      <td>Ira</td>\n",
       "      <td>820980192</td>\n",
       "      <td>Грошові перекази</td>\n",
       "      <td>Фінанси</td>\n",
       "      <td>Фінанси</td>\n",
       "    </tr>\n",
       "    <tr>\n",
       "      <th>117</th>\n",
       "      <td>44</td>\n",
       "      <td>bZmTP9ZZiPV1f_pUJQ</td>\n",
       "      <td>1733488963</td>\n",
       "      <td>473121****4300</td>\n",
       "      <td>4829</td>\n",
       "      <td>200</td>\n",
       "      <td>AP5B-CAK0-T1X3-BHT7</td>\n",
       "      <td>outcome</td>\n",
       "      <td>2024-12-06 00:00:00</td>\n",
       "      <td>12</td>\n",
       "      <td>49</td>\n",
       "      <td>Ira</td>\n",
       "      <td>820980192</td>\n",
       "      <td>Грошові перекази</td>\n",
       "      <td>Фінанси</td>\n",
       "      <td>Фінанси</td>\n",
       "    </tr>\n",
       "    <tr>\n",
       "      <th>118</th>\n",
       "      <td>45</td>\n",
       "      <td>f0hCZam9BW7Qo9hB_A</td>\n",
       "      <td>1733482787</td>\n",
       "      <td>ZERNO</td>\n",
       "      <td>5812</td>\n",
       "      <td>245</td>\n",
       "      <td>TM6A-1H9B-5B52-XM49</td>\n",
       "      <td>outcome</td>\n",
       "      <td>2024-12-06 00:00:00</td>\n",
       "      <td>12</td>\n",
       "      <td>49</td>\n",
       "      <td>Ira</td>\n",
       "      <td>820980192</td>\n",
       "      <td>Місця громадського харчування, ресторани</td>\n",
       "      <td>Різні магазини</td>\n",
       "      <td>Харчування</td>\n",
       "    </tr>\n",
       "  </tbody>\n",
       "</table>\n",
       "<p>119 rows × 16 columns</p>\n",
       "</div>"
      ],
      "text/plain": [
       "     Unnamed: 0                           id        time        description  \\\n",
       "0             0           QybTdwmdg1UxQYorUw  1736090319              Glovo   \n",
       "1             1           X2L4UyGbf3mHQnmHCg  1736016367        Анатолій К.   \n",
       "2             2         dqY1XO0j5LgB88i-DUL2  1735950685              Glovo   \n",
       "3             3  6cexPC-Cv8T6zid9SkR7vBBmR7M  1735950685  Скасування. Glovo   \n",
       "4             4           5fRWZpgp0bXROL-_vA  1735920286              Glovo   \n",
       "..          ...                          ...         ...                ...   \n",
       "114          41           CbFMNVPPwAs5p5aj5Q  1733589765         SIMI #4133   \n",
       "115          42           GI1HNsfLIhmssLStFQ  1733581779              Uklon   \n",
       "116          43           l9iYR2quEjfbjjqERA  1733501173   Термінал EasyPay   \n",
       "117          44           bZmTP9ZZiPV1f_pUJQ  1733488963     473121****4300   \n",
       "118          45           f0hCZam9BW7Qo9hB_A  1733482787              ZERNO   \n",
       "\n",
       "     originalMcc  amount            receiptId     type            full_date  \\\n",
       "0           5499     434  E8C4-AH3E-CEA7-H0E8  outcome           2025-01-05   \n",
       "1           4829     715  T0E9-MC6C-3P2P-A72C  outcome           2025-01-04   \n",
       "2           5499     291                  NaN  outcome           2025-01-04   \n",
       "3           5499     288                  NaN   income           2025-01-04   \n",
       "4           5499     521  1914-H328-TBHP-KPTP  outcome           2025-01-03   \n",
       "..           ...     ...                  ...      ...                  ...   \n",
       "114         5499     457  HKAA-P721-A2EC-1641  outcome  2024-12-07 00:00:00   \n",
       "115         4121     100  058K-T735-TE7P-976M  outcome  2024-12-07 00:00:00   \n",
       "116         4829     200                  NaN   income  2024-12-06 00:00:00   \n",
       "117         4829     200  AP5B-CAK0-T1X3-BHT7  outcome  2024-12-06 00:00:00   \n",
       "118         5812     245  TM6A-1H9B-5B52-XM49  outcome  2024-12-06 00:00:00   \n",
       "\n",
       "     month_number  week_number user_name  telegram_id  \\\n",
       "0               1            1     Artem    533452580   \n",
       "1               1            1     Artem    533452580   \n",
       "2               1            1     Artem    533452580   \n",
       "3               1            1     Artem    533452580   \n",
       "4               1            1     Artem    533452580   \n",
       "..            ...          ...       ...          ...   \n",
       "114            12           49       Ira    820980192   \n",
       "115            12           49       Ira    820980192   \n",
       "116            12           49       Ira    820980192   \n",
       "117            12           49       Ira    820980192   \n",
       "118            12           49       Ira    820980192   \n",
       "\n",
       "                                              Category    Business group  \\\n",
       "0    Різноманітні продовольчі магазини – ринки, маг...  Продаж в роздріб   \n",
       "1                                     Грошові перекази           Фінанси   \n",
       "2    Різноманітні продовольчі магазини – ринки, маг...  Продаж в роздріб   \n",
       "3    Різноманітні продовольчі магазини – ринки, маг...  Продаж в роздріб   \n",
       "4    Різноманітні продовольчі магазини – ринки, маг...  Продаж в роздріб   \n",
       "..                                                 ...               ...   \n",
       "114  Різноманітні продовольчі магазини – ринки, маг...  Продаж в роздріб   \n",
       "115                                  Лімузини та таксі   Транспортування   \n",
       "116                                   Грошові перекази           Фінанси   \n",
       "117                                   Грошові перекази           Фінанси   \n",
       "118           Місця громадського харчування, ресторани    Різні магазини   \n",
       "\n",
       "     custom_category  \n",
       "0         Харчування  \n",
       "1            Фінанси  \n",
       "2         Харчування  \n",
       "3         Харчування  \n",
       "4         Харчування  \n",
       "..               ...  \n",
       "114       Харчування  \n",
       "115  Транспортування  \n",
       "116          Фінанси  \n",
       "117          Фінанси  \n",
       "118       Харчування  \n",
       "\n",
       "[119 rows x 16 columns]"
      ]
     },
     "execution_count": 59,
     "metadata": {},
     "output_type": "execute_result"
    }
   ],
   "source": [
    "data_full"
   ]
  },
  {
   "cell_type": "code",
   "execution_count": 60,
   "metadata": {},
   "outputs": [],
   "source": [
    "Monthly = data_full.query(\"month_number == @current_month\").groupby( ['custom_category'] ).amount.sum().reset_index().merge(Balances.query('Period == \"m\"'),how='right')\n",
    "Monthly = Monthly.fillna(0)"
   ]
  },
  {
   "cell_type": "code",
   "execution_count": 62,
   "metadata": {},
   "outputs": [
    {
     "data": {
      "text/html": [
       "<div>\n",
       "<style scoped>\n",
       "    .dataframe tbody tr th:only-of-type {\n",
       "        vertical-align: middle;\n",
       "    }\n",
       "\n",
       "    .dataframe tbody tr th {\n",
       "        vertical-align: top;\n",
       "    }\n",
       "\n",
       "    .dataframe thead th {\n",
       "        text-align: right;\n",
       "    }\n",
       "</style>\n",
       "<table border=\"1\" class=\"dataframe\">\n",
       "  <thead>\n",
       "    <tr style=\"text-align: right;\">\n",
       "      <th></th>\n",
       "      <th>custom_category</th>\n",
       "      <th>amount</th>\n",
       "      <th>Balance</th>\n",
       "      <th>Period</th>\n",
       "    </tr>\n",
       "  </thead>\n",
       "  <tbody>\n",
       "    <tr>\n",
       "      <th>0</th>\n",
       "      <td>Транспортування</td>\n",
       "      <td>0.0</td>\n",
       "      <td>2000</td>\n",
       "      <td>m</td>\n",
       "    </tr>\n",
       "  </tbody>\n",
       "</table>\n",
       "</div>"
      ],
      "text/plain": [
       "   custom_category  amount  Balance Period\n",
       "0  Транспортування     0.0     2000      m"
      ]
     },
     "metadata": {},
     "output_type": "display_data"
    },
    {
     "data": {
      "text/plain": [
       "'For category Транспортування. You have 2000.0 UAH.'"
      ]
     },
     "execution_count": 62,
     "metadata": {},
     "output_type": "execute_result"
    }
   ],
   "source": [
    "display(Monthly)\n",
    "for category in Monthly.custom_category.unique():\n",
    "\n",
    "    category_df = Monthly.query(\"custom_category == @category\")\n",
    "\n",
    "    availible = category_df['Balance'] -category_df['amount']\n",
    "    availible = availible[0]\n",
    "    if availible > 0 : \n",
    "        balance_report_body = f\"For category {category}. You have {availible} UAH.\"\n",
    "\n",
    "    else :\n",
    "        balance_report_body = f\"For categpry {category}. You exceeded the weekly limit.\"\n",
    "\n",
    "balance_report_body"
   ]
  },
  {
   "cell_type": "code",
   "execution_count": 63,
   "metadata": {},
   "outputs": [
    {
     "data": {
      "text/plain": [
       "Business group\n",
       "Комунальні послуги       8\n",
       "Онлайн-майданчики        3\n",
       "Постачальники послуг     1\n",
       "Продаж в роздріб        49\n",
       "Різні магазини          12\n",
       "Транспортування         18\n",
       "Фінанси                 28\n",
       "Name: id, dtype: int64"
      ]
     },
     "execution_count": 63,
     "metadata": {},
     "output_type": "execute_result"
    }
   ],
   "source": [
    "data.groupby('Business group').id.nunique()"
   ]
  },
  {
   "cell_type": "code",
   "execution_count": null,
   "metadata": {},
   "outputs": [],
   "source": []
  }
 ],
 "metadata": {
  "kernelspec": {
   "display_name": "telegram_bot",
   "language": "python",
   "name": "python3"
  },
  "language_info": {
   "codemirror_mode": {
    "name": "ipython",
    "version": 3
   },
   "file_extension": ".py",
   "mimetype": "text/x-python",
   "name": "python",
   "nbconvert_exporter": "python",
   "pygments_lexer": "ipython3",
   "version": "3.13.1"
  }
 },
 "nbformat": 4,
 "nbformat_minor": 2
}
